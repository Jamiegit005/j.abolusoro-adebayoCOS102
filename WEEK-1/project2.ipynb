{
 "cells": [
  {
   "cell_type": "code",
   "execution_count": 2,
   "id": "af52035f-0d5d-40bc-b933-742a7dceabb3",
   "metadata": {},
   "outputs": [
    {
     "ename": "IndentationError",
     "evalue": "unindent does not match any outer indentation level (<tokenize>, line 3)",
     "output_type": "error",
     "traceback": [
      "\u001b[1;36m  File \u001b[1;32m<tokenize>:3\u001b[1;36m\u001b[0m\n\u001b[1;33m    compound_interest = (principal * (1 + rate_decimal) ^ time - principal)\u001b[0m\n\u001b[1;37m    ^\u001b[0m\n\u001b[1;31mIndentationError\u001b[0m\u001b[1;31m:\u001b[0m unindent does not match any outer indentation level\n"
     ]
    }
   ],
   "source": [
    "def calculate_compound_interest(principal, rate, time):\n",
    "    rate_decimal = rate / 100\n",
    "   compound_interest = (principal * (1 + rate_decimal) ^ time) - principal)\n",
    "    return compound_interest\n",
    "\n",
    "def main():\n",
    "    principal = float(input(\"Enter the principal amount: \"))\n",
    "    rate = float(input(\"Enter the annual interest rate (in percentage): \"))\n",
    "    time = float(input(\"Enter the time period (in years): \"))\n",
    "    \n",
    "    interest = calculate_compound_interest(principal, rate, time)\n",
    "    print(\"Compound Interest:\", interest)\n",
    "\n",
    "if __name__ == \"__main__\":\n",
    "    main()"
   ]
  },
  {
   "cell_type": "code",
   "execution_count": null,
   "id": "21d8ab88-3991-432e-9b37-f70eb5e06e74",
   "metadata": {},
   "outputs": [],
   "source": [
    "def calculate_compound_interest(principal, rate, time):\n",
    "    rate_decimal = rate / 100\n",
    "    compound_interest = principal * ((1 + rate_decimal) ** time) - principal\n",
    "    return compound_interest\n",
    "\n",
    "def main():\n",
    "    principal = float(input(\"Enter the principal amount: \"))\n",
    "    rate = float(input(\"Enter the annual interest rate (in percentage): \"))\n",
    "    time = float(input(\"Enter the time period (in years): \"))\n",
    "    \n",
    "    interest = calculate_compound_interest(principal, rate, time)\n",
    "    print(\"Compound Interest:\", interest)\n",
    "\n",
    "if __name__ == \"__main__\":\n",
    "    main()\n"
   ]
  },
  {
   "cell_type": "code",
   "execution_count": null,
   "id": "f3dd50d0-c9d6-4885-ba1f-e23bfabac234",
   "metadata": {},
   "outputs": [],
   "source": []
  }
 ],
 "metadata": {
  "kernelspec": {
   "display_name": "Python 3 (ipykernel)",
   "language": "python",
   "name": "python3"
  },
  "language_info": {
   "codemirror_mode": {
    "name": "ipython",
    "version": 3
   },
   "file_extension": ".py",
   "mimetype": "text/x-python",
   "name": "python",
   "nbconvert_exporter": "python",
   "pygments_lexer": "ipython3",
   "version": "3.11.7"
  }
 },
 "nbformat": 4,
 "nbformat_minor": 5
}
