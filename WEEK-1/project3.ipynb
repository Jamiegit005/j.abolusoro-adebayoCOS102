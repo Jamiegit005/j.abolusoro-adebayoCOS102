{
 "cells": [
  {
   "cell_type": "code",
   "execution_count": 3,
   "id": "0f142571-4a66-4d9d-9a8a-7cce73296cbe",
   "metadata": {},
   "outputs": [],
   "source": [
    "def calculate_annuity_plan(principal, rate, time):\n",
    "    rate_decimal = rate / 100\n",
    "    compound_interest = principal * rate_decimal / 1 - (1 + rate_decimal) ** -time\n",
    "    return annuity_plan\n",
    "\n",
    "def main():\n",
    "    principal = float(input(\"Enter the principal amount: \"))\n",
    "    rate = float(input(\"Enter the annual interest rate (in percentage): \"))\n",
    "    time = float(input(\"Enter the time period (in years): \"))\n",
    "    \n",
    "    interest = calculate_annuity_plan(principal, rate, time)\n",
    "    print(\"Annuity Plan:\", interest)\n",
    "\n",
    "if __name__ == \"__main__\":\n",
    "    main()\n"
   ]
  },
  {
   "cell_type": "code",
   "execution_count": null,
   "id": "8b857e95-da37-420a-a092-bd8fa5215219",
   "metadata": {},
   "outputs": [],
   "source": [
    "def calculate_annuity_plan(principal, rate, time):\n",
    "    rate_decimal = rate / 100\n",
    "    compound_interest = principal * rate_decimal / 1 - (1 + rate_decimal) ** -time\n",
    "    return annuity_plan\n",
    "\n",
    "def main():\n",
    "    principal = float(input(\"Enter the principal amount: \"))\n",
    "    rate = float(input(\"Enter the annual interest rate (in percentage): \"))\n",
    "    time = float(input(\"Enter the time period (in years): \"))\n",
    "    \n",
    "    interest = calculate_annuity_plan(principal, rate, time)\n",
    "    print(\"Annuity Plan:\", interest)\n",
    "\n",
    "if __name__ == \"__main__\":\n",
    "    main()\n"
   ]
  },
  {
   "cell_type": "code",
   "execution_count": null,
   "id": "90bb3f5e-c4d5-40fe-a90b-d93a6235c0af",
   "metadata": {},
   "outputs": [],
   "source": []
  },
  {
   "cell_type": "code",
   "execution_count": null,
   "id": "6de1ff4d-8cdd-492d-a955-4c32175da855",
   "metadata": {},
   "outputs": [],
   "source": []
  },
  {
   "cell_type": "code",
   "execution_count": null,
   "id": "d9483160-78b1-4a2d-91a8-53a82b067da5",
   "metadata": {},
   "outputs": [],
   "source": []
  }
 ],
 "metadata": {
  "kernelspec": {
   "display_name": "Python 3 (ipykernel)",
   "language": "python",
   "name": "python3"
  },
  "language_info": {
   "codemirror_mode": {
    "name": "ipython",
    "version": 3
   },
   "file_extension": ".py",
   "mimetype": "text/x-python",
   "name": "python",
   "nbconvert_exporter": "python",
   "pygments_lexer": "ipython3",
   "version": "3.11.7"
  }
 },
 "nbformat": 4,
 "nbformat_minor": 5
}
