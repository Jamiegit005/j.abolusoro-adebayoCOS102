{
 "cells": [
  {
   "cell_type": "code",
   "execution_count": 4,
   "id": "7d302e26-765c-48cb-ac88-55484496e111",
   "metadata": {},
   "outputs": [
    {
     "ename": "IndentationError",
     "evalue": "unindent does not match any outer indentation level (<tokenize>, line 3)",
     "output_type": "error",
     "traceback": [
      "\u001b[1;36m  File \u001b[1;32m<tokenize>:3\u001b[1;36m\u001b[0m\n\u001b[1;33m    simple_interest = (principal * rate_decimal * time)\u001b[0m\n\u001b[1;37m    ^\u001b[0m\n\u001b[1;31mIndentationError\u001b[0m\u001b[1;31m:\u001b[0m unindent does not match any outer indentation level\n"
     ]
    }
   ],
   "source": [
    "def calculate_simple_interest(principal, rate, time):\n",
    "     rate_decimal = rate / 100\n",
    "    simple_interest = (principal * rate_decimal * time)\n",
    "return simple_interest\n",
    "\n",
    "def main():\n",
    "    principal = float(input(\"Enter the principal amount: \"))\n",
    "    rate = float(input(\"Enter the annual interest rate (in percentage): \"))\n",
    "    time = float(input(\"Enter the time period (in years): \"))\n",
    "\n",
    "interest = calculate_simple_interest(principal, rate, time)\n",
    "print(\"Simple Interest:\", interest)\n",
    "if __name__ == \"__main__\":\n",
    "    main()\n",
    "\n"
   ]
  },
  {
   "cell_type": "code",
   "execution_count": 6,
   "id": "11211a16-5c5a-4fb2-be7a-4a98aec9cfe1",
   "metadata": {},
   "outputs": [
    {
     "ename": "IndentationError",
     "evalue": "unindent does not match any outer indentation level (<tokenize>, line 3)",
     "output_type": "error",
     "traceback": [
      "\u001b[1;36m  File \u001b[1;32m<tokenize>:3\u001b[1;36m\u001b[0m\n\u001b[1;33m    simple_interest = (principal * rate_decimal * time)\u001b[0m\n\u001b[1;37m    ^\u001b[0m\n\u001b[1;31mIndentationError\u001b[0m\u001b[1;31m:\u001b[0m unindent does not match any outer indentation level\n"
     ]
    }
   ],
   "source": [
    "def calculate_simple_interest(principal, rate, time):\n",
    "     rate_decimal = rate / 100\n",
    "    simple_interest = (principal * rate_decimal * time)\n",
    "return simple_interest\n",
    "\n",
    "def main():\n",
    "    principal = float(input(\"Enter the principal amount: \"))\n",
    "    rate = float(input(\"Enter the annual interest rate (in percentage): \"))\n",
    "    time = float(input(\"Enter the time period (in years): \"))\n",
    "\n",
    "interest = calculate_simple_interest(principal, rate, time)\n",
    "print(\"Simple Interest:\", interest)\n",
    "if __name__ == \"__main__\":\n",
    "    main()\n",
    "\n"
   ]
  },
  {
   "cell_type": "code",
   "execution_count": 7,
   "id": "042adb9c-15d6-49a1-a471-a8f34e70136d",
   "metadata": {},
   "outputs": [
    {
     "name": "stdin",
     "output_type": "stream",
     "text": [
      "Enter the principal amount:  2000\n",
      "Enter the annual interest rate (in percentage):  10\n",
      "Enter the time period (in years):  3\n"
     ]
    },
    {
     "name": "stdout",
     "output_type": "stream",
     "text": [
      "Simple Interest: 600.0\n"
     ]
    }
   ],
   "source": [
    "def calculate_simple_interest(principal, rate, time):\n",
    "    rate_decimal = rate / 100\n",
    "    simple_interest = (principal * rate_decimal * time)\n",
    "    return simple_interest\n",
    "\n",
    "def main():\n",
    "    principal = float(input(\"Enter the principal amount: \"))\n",
    "    rate = float(input(\"Enter the annual interest rate (in percentage): \"))\n",
    "    time = float(input(\"Enter the time period (in years): \"))\n",
    "    \n",
    "    interest = calculate_simple_interest(principal, rate, time)\n",
    "    print(\"Simple Interest:\", interest)\n",
    "\n",
    "if __name__ == \"__main__\":\n",
    "    main()\n",
    "\n"
   ]
  },
  {
   "cell_type": "code",
   "execution_count": null,
   "id": "a0e7b1c2-593b-4288-9cc6-a30a241605c7",
   "metadata": {},
   "outputs": [],
   "source": []
  }
 ],
 "metadata": {
  "kernelspec": {
   "display_name": "Python 3 (ipykernel)",
   "language": "python",
   "name": "python3"
  },
  "language_info": {
   "codemirror_mode": {
    "name": "ipython",
    "version": 3
   },
   "file_extension": ".py",
   "mimetype": "text/x-python",
   "name": "python",
   "nbconvert_exporter": "python",
   "pygments_lexer": "ipython3",
   "version": "3.11.7"
  }
 },
 "nbformat": 4,
 "nbformat_minor": 5
}
