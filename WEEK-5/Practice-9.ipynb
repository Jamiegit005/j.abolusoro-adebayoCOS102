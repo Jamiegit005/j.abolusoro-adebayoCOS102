{
 "cells": [
  {
   "cell_type": "code",
   "execution_count": 4,
   "id": "fcbbdfa1-b7ff-49f6-91a5-3c536c25af2f",
   "metadata": {},
   "outputs": [
    {
     "name": "stdout",
     "output_type": "stream",
     "text": [
      "Lawal Edward Tolu Tina\n",
      "Mary\n"
     ]
    }
   ],
   "source": [
    "def swap(x, y):\n",
    "    global a\n",
    "    a = \"Lawal\"\n",
    "    x,y = y,x\n",
    "    b = \"Chris\"\n",
    "    b = \"Edward\"\n",
    "    c = \"Lola\"\n",
    "    print(a,b,x,y)\n",
    "    a = \"Mary\"\n",
    "swap(\"Tina\",\"Tolu\")\n",
    "print (a)"
   ]
  },
  {
   "cell_type": "code",
   "execution_count": null,
   "id": "c73d6d31-2ed4-4dcb-a8b1-2053a5a8a443",
   "metadata": {},
   "outputs": [],
   "source": []
  }
 ],
 "metadata": {
  "kernelspec": {
   "display_name": "Python 3 (ipykernel)",
   "language": "python",
   "name": "python3"
  },
  "language_info": {
   "codemirror_mode": {
    "name": "ipython",
    "version": 3
   },
   "file_extension": ".py",
   "mimetype": "text/x-python",
   "name": "python",
   "nbconvert_exporter": "python",
   "pygments_lexer": "ipython3",
   "version": "3.11.7"
  }
 },
 "nbformat": 4,
 "nbformat_minor": 5
}
