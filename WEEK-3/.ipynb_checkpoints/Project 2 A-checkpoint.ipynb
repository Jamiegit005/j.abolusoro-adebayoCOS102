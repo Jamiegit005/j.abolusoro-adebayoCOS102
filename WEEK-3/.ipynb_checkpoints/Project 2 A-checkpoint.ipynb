{
 "cells": [
  {
   "cell_type": "code",
   "execution_count": 6,
   "id": "e8f6a827-d582-45e9-a9d4-78eddcbad017",
   "metadata": {},
   "outputs": [
    {
     "name": "stdout",
     "output_type": "stream",
     "text": [
      "Root of the cubic equation: 0.9999999999977106\n"
     ]
    }
   ],
   "source": [
    "def cubic_function(x, A, B, C, D):\n",
    "    return A*x**3 + B*x**2 + C*x + D\n",
    "\n",
    "def cubic_function_derivative(x, A, B, C):\n",
    "    return 3*A*x**2 + 2*B*x + C\n",
    "\n",
    "def newton_raphson_cubic(A, B, C, D, x0, tolerance=1e-6, max_iterations=100):\n",
    "    x = x0\n",
    "    iterations = 0\n",
    "    while True:\n",
    "        fx = cubic_function(x, A, B, C, D)\n",
    "        if abs(fx) < tolerance or iterations >= max_iterations:\n",
    "            break\n",
    "        dfx = cubic_function_derivative(x, A, B, C)\n",
    "        if dfx == 0:\n",
    "            break\n",
    "        x = x - fx / dfx\n",
    "        iterations += 1\n",
    "    if iterations >= max_iterations:\n",
    "        print(\"Maximum iterations reached without convergence.\")\n",
    "        return None\n",
    "    else:\n",
    "        return x\n",
    "\n",
    "A = 1\n",
    "B = -6\n",
    "C = 11\n",
    "D = -6\n",
    "x0 = 0  # Initial guess\n",
    "root = newton_raphson_cubic(A, B, C, D, x0)\n",
    "if root is not None:\n",
    "    print(\"Root of the cubic equation:\", root)\n"
   ]
  },
  {
   "cell_type": "code",
   "execution_count": 4,
   "id": "d9f807cd-2aed-44c5-9144-8296c432b058",
   "metadata": {},
   "outputs": [],
   "source": []
  },
  {
   "cell_type": "code",
   "execution_count": null,
   "id": "46d74045-723e-4ea7-8b59-31971228441e",
   "metadata": {},
   "outputs": [],
   "source": []
  },
  {
   "cell_type": "code",
   "execution_count": null,
   "id": "a5b04098-8f2b-44a0-b701-cf6090fb0f19",
   "metadata": {},
   "outputs": [],
   "source": []
  },
  {
   "cell_type": "code",
   "execution_count": null,
   "id": "93f1c65e-ec41-4543-9052-222c4153d42a",
   "metadata": {},
   "outputs": [],
   "source": []
  }
 ],
 "metadata": {
  "kernelspec": {
   "display_name": "Python 3 (ipykernel)",
   "language": "python",
   "name": "python3"
  },
  "language_info": {
   "codemirror_mode": {
    "name": "ipython",
    "version": 3
   },
   "file_extension": ".py",
   "mimetype": "text/x-python",
   "name": "python",
   "nbconvert_exporter": "python",
   "pygments_lexer": "ipython3",
   "version": "3.11.7"
  }
 },
 "nbformat": 4,
 "nbformat_minor": 5
}
