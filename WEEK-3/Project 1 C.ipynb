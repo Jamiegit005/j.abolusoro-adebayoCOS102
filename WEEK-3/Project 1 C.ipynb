{
 "cells": [
  {
   "cell_type": "code",
   "execution_count": 1,
   "id": "9a7a3e0a-d065-40e3-a80e-82a86f032405",
   "metadata": {},
   "outputs": [
    {
     "name": "stdin",
     "output_type": "stream",
     "text": [
      "Enter first name:  James\n",
      "Enter first age:  18\n",
      "Enter second name:  Ade\n",
      "Enter second age:  12\n"
     ]
    },
    {
     "name": "stdout",
     "output_type": "stream",
     "text": [
      "Before swapping:\n",
      "James's age: 18\n",
      "Ade's age: 12\n",
      "\n",
      "After swapping:\n",
      "James's age: 12\n",
      "Ade's age: 18\n"
     ]
    }
   ],
   "source": [
    "def swap_ages(name1, age1, name2, age2):\n",
    "    print(\"Before swapping:\")\n",
    "    print(f\"{name1}'s age: {age1}\")\n",
    "    print(f\"{name2}'s age: {age2}\")\n",
    "\n",
    "   \n",
    "    age1, age2 = age2, age1\n",
    "\n",
    "    print(\"\\nAfter swapping:\")\n",
    "    print(f\"{name1}'s age: {age1}\")\n",
    "    print(f\"{name2}'s age: {age2}\")\n",
    "\n",
    "\n",
    "name1 = input(\"Enter first name: \")\n",
    "age1 = int(input(\"Enter first age: \"))\n",
    "name2 = input(\"Enter second name: \")\n",
    "age2 = int(input(\"Enter second age: \"))\n",
    "\n",
    "swap_ages(name1, age1, name2, age2)\n"
   ]
  },
  {
   "cell_type": "code",
   "execution_count": null,
   "id": "24d42581-1735-499b-8795-f8c1cfefd1b6",
   "metadata": {},
   "outputs": [],
   "source": []
  }
 ],
 "metadata": {
  "kernelspec": {
   "display_name": "Python 3 (ipykernel)",
   "language": "python",
   "name": "python3"
  },
  "language_info": {
   "codemirror_mode": {
    "name": "ipython",
    "version": 3
   },
   "file_extension": ".py",
   "mimetype": "text/x-python",
   "name": "python",
   "nbconvert_exporter": "python",
   "pygments_lexer": "ipython3",
   "version": "3.11.7"
  }
 },
 "nbformat": 4,
 "nbformat_minor": 5
}
