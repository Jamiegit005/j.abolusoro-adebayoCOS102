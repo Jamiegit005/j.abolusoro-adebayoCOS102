{
 "cells": [
  {
   "cell_type": "code",
   "execution_count": 1,
   "id": "38b0de76-379f-41b8-8306-80f2c4d3cd84",
   "metadata": {},
   "outputs": [
    {
     "ename": "SyntaxError",
     "evalue": "unterminated string literal (detected at line 1) (1695442363.py, line 1)",
     "output_type": "error",
     "traceback": [
      "\u001b[1;36m  Cell \u001b[1;32mIn[1], line 1\u001b[1;36m\u001b[0m\n\u001b[1;33m    list = [ 'Anaconda\", 786 , 2.23, 'Jupyter', 70.2 ]\u001b[0m\n\u001b[1;37m                                             ^\u001b[0m\n\u001b[1;31mSyntaxError\u001b[0m\u001b[1;31m:\u001b[0m unterminated string literal (detected at line 1)\n"
     ]
    }
   ],
   "source": [
    "list = [ 'Anaconda', 786 , 2.23, 'Jupyter', 70.2 ]\n",
    "shortlist = [321, 'Python']\n",
    "\n",
    "print(list)  '''Prints complete list'''\n",
    "print(list[0])  #Prints first element of the list\n",
    "print(list[1:3]) #prints elements starting from 2nd till 3rd\n",
    "print(list[2:])  '''Prints elements starting from 3rd element'''\n",
    "print(shortlist * 2) #Prints list two times\n",
    "print(list + shortlist) #prints concatenated lists"
   ]
  },
  {
   "cell_type": "code",
   "execution_count": 3,
   "id": "40edce17-f3b7-49b1-90f8-41a2b15d9ddd",
   "metadata": {},
   "outputs": [
    {
     "ename": "SyntaxError",
     "evalue": "invalid syntax (1751832866.py, line 4)",
     "output_type": "error",
     "traceback": [
      "\u001b[1;36m  Cell \u001b[1;32mIn[3], line 4\u001b[1;36m\u001b[0m\n\u001b[1;33m    print(list)  ''' Prints complete list '''\u001b[0m\n\u001b[1;37m                 ^\u001b[0m\n\u001b[1;31mSyntaxError\u001b[0m\u001b[1;31m:\u001b[0m invalid syntax\n"
     ]
    }
   ],
   "source": [
    "list = [ 'Anaconda', 786 , 2.23, 'Jupyter', 70.2 ]\n",
    "shortlist = [321, 'Python']\n",
    "\n",
    "print(list)  ''' Prints complete list '''\n",
    "print(list[0])  #Prints first element of the list\n",
    "print(list[1:3]) #prints elements starting from 2nd till 3rd\n",
    "print(list[2:])  '''Prints elements starting from 3rd element'''\n",
    "print(shortlist * 2) #Prints list two times\n",
    "print(list + shortlist) #prints concatenated lists"
   ]
  },
  {
   "cell_type": "code",
   "execution_count": 4,
   "id": "1f3850a9-0790-4613-85f3-09ffc353d8bb",
   "metadata": {},
   "outputs": [
    {
     "ename": "SyntaxError",
     "evalue": "invalid syntax (1986003878.py, line 4)",
     "output_type": "error",
     "traceback": [
      "\u001b[1;36m  Cell \u001b[1;32mIn[4], line 4\u001b[1;36m\u001b[0m\n\u001b[1;33m    print(list)  '''Prints complete list'''\u001b[0m\n\u001b[1;37m                 ^\u001b[0m\n\u001b[1;31mSyntaxError\u001b[0m\u001b[1;31m:\u001b[0m invalid syntax\n"
     ]
    }
   ],
   "source": [
    "list = [ 'Anaconda', 786 , 2.23, 'Jupyter', 70.2 ]\n",
    "shortlist = [321, 'Python']\n",
    "\n",
    "print(list)  ''' Prints complete list '''\n",
    "print(list[0])  #Prints first element of the list\n",
    "print(list[1:3]) #prints elements starting from 2nd till 3rd\n",
    "print(list[2:])  '''Prints elements starting from 3rd element'''\n",
    "print(shortlist * 2) #Prints list two times\n",
    "print(list + shortlist) #prints concatenated lists"
   ]
  },
  {
   "cell_type": "code",
   "execution_count": 5,
   "id": "5229b696-4ebb-42a2-97f7-bb6ea89ae917",
   "metadata": {},
   "outputs": [
    {
     "ename": "SyntaxError",
     "evalue": "invalid syntax (3818625697.py, line 4)",
     "output_type": "error",
     "traceback": [
      "\u001b[1;36m  Cell \u001b[1;32mIn[5], line 4\u001b[1;36m\u001b[0m\n\u001b[1;33m    print(list)  '''Prints complete list'''\u001b[0m\n\u001b[1;37m                 ^\u001b[0m\n\u001b[1;31mSyntaxError\u001b[0m\u001b[1;31m:\u001b[0m invalid syntax\n"
     ]
    }
   ],
   "source": [
    "list = [ 'Anaconda', 786 , 2.23, 'Jupyter', 70.2 ]\n",
    "shortlist = [321, 'Python']\n",
    "\n",
    "print(list)  ''' Prints complete list '''\n",
    "print(list[0])  #Prints first element of the list\n",
    "print(list[1:3]) #Prints elements starting from 2nd till 3rd\n",
    "print(list[2:])  ''' Prints elements starting from 3rd element '''\n",
    "print(shortlist * 2) #Prints list two times\n",
    "print(list + shortlist) #prints concatenated lists"
   ]
  },
  {
   "cell_type": "code",
   "execution_count": 6,
   "id": "0a19313a-6576-4d21-ab1a-1d582c006082",
   "metadata": {},
   "outputs": [
    {
     "ename": "SyntaxError",
     "evalue": "invalid syntax (3241561117.py, line 4)",
     "output_type": "error",
     "traceback": [
      "\u001b[1;36m  Cell \u001b[1;32mIn[6], line 4\u001b[1;36m\u001b[0m\n\u001b[1;33m    print(list)  ''' Prints complete list '''\u001b[0m\n\u001b[1;37m                 ^\u001b[0m\n\u001b[1;31mSyntaxError\u001b[0m\u001b[1;31m:\u001b[0m invalid syntax\n"
     ]
    }
   ],
   "source": [
    "list = [ 'Anaconda', 786 , 2.23, 'Jupyter', 70.2 ]\n",
    "shortlist = [321, 'Python']\n",
    "\n",
    "print(list)           ''' Prints complete list '''\n",
    "print(list[0])        #Prints first element of the list\n",
    "print(list[1:3])      #Prints elements starting from 2nd till 3rd\n",
    "print(list[2:])       ''' Prints elements starting from 3rd element '''\n",
    "print(shortlist * 2)    #Prints list two times\n",
    "print(list + shortlist) #prints concatenated lists"
   ]
  },
  {
   "cell_type": "code",
   "execution_count": 8,
   "id": "ef9ef5fb-9cec-4e06-8992-e04d5fa41a75",
   "metadata": {},
   "outputs": [
    {
     "ename": "SyntaxError",
     "evalue": "invalid syntax (2081294705.py, line 4)",
     "output_type": "error",
     "traceback": [
      "\u001b[1;36m  Cell \u001b[1;32mIn[8], line 4\u001b[1;36m\u001b[0m\n\u001b[1;33m    print(listt)            ''' Prints complete list '''\u001b[0m\n\u001b[1;37m                            ^\u001b[0m\n\u001b[1;31mSyntaxError\u001b[0m\u001b[1;31m:\u001b[0m invalid syntax\n"
     ]
    }
   ],
   "source": [
    "listt = [ 'Anaconda', 786 , 2.23, 'Jupyter', 70.2 ]\n",
    "shortlist = [321, 'Python']\n",
    "\n",
    "print(listt)            ''' Prints complete list '''\n",
    "print(listt[0])         # Prints first element of the list\n",
    "print(listt[1:3])       # Prints elements starting from 2nd till 3rd\n",
    "print(listt[2:])        ''' Prints elements starting from 3rd element '''\n",
    "print(shortlist * 2)    # Prints list two times\n",
    "print(listt + shortlist) # prints concatenated lists"
   ]
  },
  {
   "cell_type": "code",
   "execution_count": 9,
   "id": "e96b26eb-e763-4867-9bde-d036b7bacdd2",
   "metadata": {},
   "outputs": [
    {
     "ename": "SyntaxError",
     "evalue": "invalid syntax (2081294705.py, line 4)",
     "output_type": "error",
     "traceback": [
      "\u001b[1;36m  Cell \u001b[1;32mIn[9], line 4\u001b[1;36m\u001b[0m\n\u001b[1;33m    print(listt)            ''' Prints complete list '''\u001b[0m\n\u001b[1;37m                            ^\u001b[0m\n\u001b[1;31mSyntaxError\u001b[0m\u001b[1;31m:\u001b[0m invalid syntax\n"
     ]
    }
   ],
   "source": [
    "listt = [ 'Anaconda', 786 , 2.23, 'Jupyter', 70.2 ]\n",
    "shortlist = [321, 'Python']\n",
    "\n",
    "print(listt)            ''' Prints complete list '''\n",
    "print(listt[0])         # Prints first element of the list\n",
    "print(listt[1:3])       # Prints elements starting from 2nd till 3rd\n",
    "print(listt[2:])        ''' Prints elements starting from 3rd element '''\n",
    "print(shortlist * 2)    # Prints list two times\n",
    "print(listt + shortlist) # prints concatenated lists"
   ]
  },
  {
   "cell_type": "code",
   "execution_count": 11,
   "id": "dc2620a0-9111-4aa7-a3fc-d28d0a5ada14",
   "metadata": {},
   "outputs": [
    {
     "ename": "SyntaxError",
     "evalue": "'[' was never closed (616969114.py, line 4)",
     "output_type": "error",
     "traceback": [
      "\u001b[1;36m  Cell \u001b[1;32mIn[11], line 4\u001b[1;36m\u001b[0m\n\u001b[1;33m    [print(list)            # Prints complete list\u001b[0m\n\u001b[1;37m    ^\u001b[0m\n\u001b[1;31mSyntaxError\u001b[0m\u001b[1;31m:\u001b[0m '[' was never closed\n"
     ]
    }
   ],
   "source": [
    "list = [ 'Anaconda', 786 , 2.23, 'Jupyter', 70.2 ]\n",
    "shortlist = [321, 'Python']\n",
    "\n",
    "[print(list)            # Prints complete list \n",
    "print(list[0])          # Prints first element of the list\n",
    "print(list[1:3])        # Prints elements starting from 2nd till 3rd\n",
    "print(list[2:])         # Prints elements starting from 3rd element\n",
    "print(shortlist * 2)    # Prints lists two times\n",
    "print(list + shortlist) # Prints concatenated lists"
   ]
  },
  {
   "cell_type": "code",
   "execution_count": 12,
   "id": "7929fa0d-121e-4e81-89db-dbaee075c0e7",
   "metadata": {},
   "outputs": [
    {
     "name": "stdout",
     "output_type": "stream",
     "text": [
      "['Anaconda', 786, 2.23, 'Jupyter', 70.2]\n",
      "Anaconda\n",
      "[786, 2.23]\n",
      "[2.23, 'Jupyter', 70.2]\n",
      "[321, 'Python', 321, 'Python']\n",
      "['Anaconda', 786, 2.23, 'Jupyter', 70.2, 321, 'Python']\n"
     ]
    }
   ],
   "source": [
    "list = [ 'Anaconda', 786 , 2.23, 'Jupyter', 70.2 ]\n",
    "shortlist = [321, 'Python']\n",
    "\n",
    "print(list)            # Prints complete list \n",
    "print(list[0])          # Prints first element of the list\n",
    "print(list[1:3])        # Prints elements starting from 2nd till 3rd\n",
    "print(list[2:])         # Prints elements starting from 3rd element\n",
    "print(shortlist * 2)    # Prints lists two times\n",
    "print(list + shortlist) # Prints concatenated lists"
   ]
  },
  {
   "cell_type": "code",
   "execution_count": null,
   "id": "ae5d95a8-923b-4c65-b842-6cbd70f86aaf",
   "metadata": {},
   "outputs": [],
   "source": []
  }
 ],
 "metadata": {
  "kernelspec": {
   "display_name": "Python 3 (ipykernel)",
   "language": "python",
   "name": "python3"
  },
  "language_info": {
   "codemirror_mode": {
    "name": "ipython",
    "version": 3
   },
   "file_extension": ".py",
   "mimetype": "text/x-python",
   "name": "python",
   "nbconvert_exporter": "python",
   "pygments_lexer": "ipython3",
   "version": "3.11.7"
  }
 },
 "nbformat": 4,
 "nbformat_minor": 5
}
