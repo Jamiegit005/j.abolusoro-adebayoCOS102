{
 "cells": [
  {
   "cell_type": "code",
   "execution_count": 1,
   "id": "d8cc76d7-c9ce-40e4-8d67-dfd935ad434d",
   "metadata": {},
   "outputs": [
    {
     "name": "stdout",
     "output_type": "stream",
     "text": [
      "The School's Information\n",
      "NAME     AGE    HEIGHT   SCORES\n",
      "Evelyn  17    5.5     80\n",
      "Jessica 16     6.0    85\n",
      "Somto 17      5.4   70\n",
      "Edith 18      5.9    60\n",
      "Liza 16       5.6     76\n",
      "Madonna 18    5.5     66\n",
      "Waje 17     6.1     87\n",
      "Tola 20      6.0     95\n",
      "Aisha 19      5.7     50\n",
      "Latifa 17     5.5     49\n",
      "\n",
      "\n",
      "NAME   AGE   HEIGHT  SCORES\n",
      "Chinedu 19    5.7   74\n",
      "Liam 16    5.9   87\n",
      "Wale 18    5.8   75\n",
      "Gbenga 17    6.1   68\n",
      "Abiola 20    5.9   66\n",
      "Kola 19    5.5   78\n",
      "Kunle 16    6.1   87\n",
      "George 18    5.4   98\n",
      "Thomas 17    5.8   54\n",
      "Wesley 19    5.7   60\n",
      "\n",
      "\n"
     ]
    }
   ],
   "source": [
    "print(\"The School's Information\")\n",
    "\n",
    "girls = {'Evelyn' : ' 17    5.5     80',\n",
    "          'Jessica': '16     6.0    85',\n",
    "          'Somto' :  '17      5.4   70',\n",
    "          'Edith':  '18      5.9    60',\n",
    "          'Liza': '16       5.6     76',\n",
    "          'Madonna': '18    5.5     66',\n",
    "          'Waje':   '17     6.1     87',\n",
    "          'Tola':  '20      6.0     95',\n",
    "          'Aisha': '19      5.7     50',\n",
    "          'Latifa': '17     5.5     49'}\n",
    "\n",
    "\n",
    "boys = {'Chinedu' : '19    5.7   74',\n",
    "        'Liam':     '16    5.9   87',\n",
    "        'Wale':     '18    5.8   75',\n",
    "        'Gbenga':   '17    6.1   68',\n",
    "        'Abiola':   '20    5.9   66',\n",
    "        'Kola':     '19    5.5   78',\n",
    "        'Kunle':    '16    6.1   87',\n",
    "        'George':   '18    5.4   98',\n",
    "        'Thomas':   '17    5.8   54',\n",
    "        'Wesley':   '19    5.7   60'}\n",
    "\n",
    "print(\"NAME     AGE    HEIGHT   SCORES\")\n",
    "for x in girls:\n",
    "    print(x, girls[x])\n",
    "print('\\n')\n",
    "\n",
    "print(\"NAME   AGE   HEIGHT  SCORES\")\n",
    "for x in boys:\n",
    "    print(x, boys[x])\n",
    "\n",
    "print(\"\\n\")\n"
   ]
  },
  {
   "cell_type": "code",
   "execution_count": null,
   "id": "1f345264-c7e6-430c-9b81-8fc33da0f4c3",
   "metadata": {},
   "outputs": [],
   "source": []
  }
 ],
 "metadata": {
  "kernelspec": {
   "display_name": "Python 3 (ipykernel)",
   "language": "python",
   "name": "python3"
  },
  "language_info": {
   "codemirror_mode": {
    "name": "ipython",
    "version": 3
   },
   "file_extension": ".py",
   "mimetype": "text/x-python",
   "name": "python",
   "nbconvert_exporter": "python",
   "pygments_lexer": "ipython3",
   "version": "3.11.7"
  }
 },
 "nbformat": 4,
 "nbformat_minor": 5
}
