{
 "cells": [
  {
   "cell_type": "code",
   "execution_count": 1,
   "id": "9f67e514-2ed8-4f33-85ae-bf2c0e0f2e31",
   "metadata": {},
   "outputs": [
    {
     "name": "stdout",
     "output_type": "stream",
     "text": [
      "Welcome to the COUPE DE ESCRIVA 2023:  FOOTBALL PICKS \n",
      "\n",
      "Madiba:  chubby obiora-okafo\n",
      "Blue-Jays:  Christopher Uweh\n",
      "Cirok:  Alexander\n",
      "TSG Walkers:  Ikechukwu\n",
      "\n",
      "\n",
      "Madiba:  Chubby Obiora-okafo\n",
      "Blue-Jays:  Oladimeji Abaniwonda/Jeffery Awagu\n",
      "Cirok:  Timileyin Pearse/Izuako Jeremy\n",
      "TSG Walkers:  Ayomide Ojituku\n"
     ]
    }
   ],
   "source": [
    "# COUPE DE ESCRIVA 2023: FOOTBALL PICKS\n",
    "\n",
    "print(\"Welcome to the COUPE DE ESCRIVA 2023:  FOOTBALL PICKS \\n\")\n",
    "\n",
    "captain = {'Madiba: ': 'chubby obiora-okafo', 'Blue-Jays: ': 'Christopher Uweh',\n",
    "           'Cirok: ': 'Alexander', 'TSG Walkers: ': 'Ikechukwu'}\n",
    "goalkeepers = {'Madiba: ': 'Chubby Obiora-okafo',\n",
    "               'Blue-Jays: ': 'Oladimeji Abaniwonda/Jeffery Awagu',\n",
    "               'Cirok: ': 'Timileyin Pearse/Izuako Jeremy',\n",
    "               'TSG Walkers: ': 'Ayomide Ojituku'}\n",
    "\n",
    "for pick in captain:\n",
    "    print(pick, captain[pick])\n",
    "\n",
    "print(\"\\n\")\n",
    "\n",
    "for pick in goalkeepers:\n",
    "    print(pick, goalkeepers[pick])\n"
   ]
  },
  {
   "cell_type": "code",
   "execution_count": null,
   "id": "7b9fff09-beab-4066-bdcf-836584fce0da",
   "metadata": {},
   "outputs": [],
   "source": []
  }
 ],
 "metadata": {
  "kernelspec": {
   "display_name": "Python 3 (ipykernel)",
   "language": "python",
   "name": "python3"
  },
  "language_info": {
   "codemirror_mode": {
    "name": "ipython",
    "version": 3
   },
   "file_extension": ".py",
   "mimetype": "text/x-python",
   "name": "python",
   "nbconvert_exporter": "python",
   "pygments_lexer": "ipython3",
   "version": "3.11.7"
  }
 },
 "nbformat": 4,
 "nbformat_minor": 5
}
