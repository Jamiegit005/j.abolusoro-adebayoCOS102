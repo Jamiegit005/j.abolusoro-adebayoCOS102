{
 "cells": [
  {
   "cell_type": "code",
   "execution_count": 1,
   "id": "62649990-4004-432c-be77-7f52131c66d7",
   "metadata": {},
   "outputs": [
    {
     "name": "stdout",
     "output_type": "stream",
     "text": [
      "WELCOME TO IZIFIN TECHNOLOGY\n"
     ]
    },
    {
     "name": "stdin",
     "output_type": "stream",
     "text": [
      "Enter number of years 10\n",
      "Enter your age 18\n"
     ]
    },
    {
     "name": "stdout",
     "output_type": "stream",
     "text": [
      "error\n"
     ]
    }
   ],
   "source": [
    "print(\"WELCOME TO IZIFIN TECHNOLOGY\")\n",
    "years = float(input(\"Enter number of years\"))\n",
    "age = float(input(\"Enter your age\"))\n",
    "\n",
    "if years > 25 and age >= 55:\n",
    "   print(\"YOUR ANNUAL TAX = N5600000\")\n",
    "\n",
    "elif years > 20 and age > 45:\n",
    "   print(\"YOUR ANNUAL TAX = N4480000\")\n",
    "\n",
    "elif years > 10 and age >= 35:\n",
    "   print(\"YOUR ANNUAL TAX = N1500000\")\n",
    "\n",
    "elif years < 10 and age > 35:\n",
    "   print(\"YOUR ANNUAL TAX = N550000\")\n",
    "else:\n",
    "    print(\"error\")\n"
   ]
  },
  {
   "cell_type": "code",
   "execution_count": null,
   "id": "2b4c264d-c305-41f9-9b41-2d8910bb79a1",
   "metadata": {},
   "outputs": [],
   "source": []
  }
 ],
 "metadata": {
  "kernelspec": {
   "display_name": "Python 3 (ipykernel)",
   "language": "python",
   "name": "python3"
  },
  "language_info": {
   "codemirror_mode": {
    "name": "ipython",
    "version": 3
   },
   "file_extension": ".py",
   "mimetype": "text/x-python",
   "name": "python",
   "nbconvert_exporter": "python",
   "pygments_lexer": "ipython3",
   "version": "3.11.7"
  }
 },
 "nbformat": 4,
 "nbformat_minor": 5
}
